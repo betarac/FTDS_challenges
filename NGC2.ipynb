{
 "cells": [
  {
   "cell_type": "markdown",
   "metadata": {},
   "source": [
    "## Task #1 **Number of Words**\n",
    "\n",
    "Create a function that count the number of word in a sentence.\n",
    "\n",
    "**Instruction**\n",
    "1. Create function called `number_of_word`.\n",
    "2. This function takes 1 input, `sentence`.\n",
    "3. Inside this function, you can utilize `.split()` method to split the sentence into list of word(s)\n",
    "4. Also, `len()` function to count the element inside a list.\n",
    "5. Return the number of word from the sentence.\n",
    "\n",
    "***Example:***\n",
    "\n",
    "- Input: number_of_word(sentence = ’Hello World!’)\n",
    "- Output: 2\n",
    "- Input: number_of_word(sentence = ’Once Upon a Time in a faraway land’)\n",
    "- Output: 84\n",
    "\n"
   ]
  },
  {
   "cell_type": "code",
   "execution_count": 23,
   "metadata": {},
   "outputs": [
    {
     "name": "stdout",
     "output_type": "stream",
     "text": [
      "['Belajar', 'Data']\n",
      "2\n"
     ]
    }
   ],
   "source": [
    "def number_of_word (sentence) :\n",
    "  sen = sentence.split()\n",
    "  print(sen)\n",
    "  print(len(sen))\n",
    "number_of_word(\"Belajar Data\")"
   ]
  },
  {
   "cell_type": "markdown",
   "metadata": {},
   "source": [
    "## Task #2 - Find Multiple \n",
    "**Create a function that will get list of number(s) from a certain range that multiples of given number**\n",
    "***Instruction**\n",
    "1. Create function called `find_multiples`.\n",
    "2. This function takes 3 input: `start_range`, `end_range`, and `multiple`\n",
    "3. From every number within the given range, check if that number is the mutliples of `multiple`.\n",
    "4. Return list of the possible multiple number(s).\n",
    "\n",
    "***Example**\n",
    "- Input: find_multiple(start_range= 1, end_range= 20, multiple= 5)\n",
    "- Output: [5, 10, 15, 20]\n",
    "\n",
    "- Input: find_multiple(start_range= 1, end_range= 50, multiple= 10)\n",
    "- Output: [10, 20, 30, 40, 50]"
   ]
  },
  {
   "cell_type": "code",
   "execution_count": 19,
   "metadata": {},
   "outputs": [
    {
     "name": "stdout",
     "output_type": "stream",
     "text": [
      "Bilangan kelipatan 7 pada range 1 - 50 adalah [10, 20, 30, 40, 50]\n",
      "Bilangan kelipatan 7 pada range 1 - 50 adalah [10, 20, 30, 40, 50]\n"
     ]
    }
   ],
   "source": [
    "def find_multiples (start_range, end_range, multiple) :\n",
    "    \" fungsi ini akan mencari bilangam kelipatantertentu dalam satu range  \"\n",
    "    hasil = []\n",
    "    for i in range (start_range,end_range+1) :\n",
    "        if i % multiple == 0:\n",
    "            hasil.append(i)\n",
    "    return hasil\n",
    "print (\"Bilangan kelipatan 7 pada range 1 - 50 adalah\", find_multiples(1,50,10))\n",
    "find_multiples = lambda start_range,end_range,multiple: [i for i in range(start_range,end_range+1) if i % multiple == 0]\n",
    "print (\"Bilangan kelipatan 7 pada range 1 - 50 adalah\", find_multiples(1,50,10))\n"
   ]
  },
  {
   "cell_type": "markdown",
   "metadata": {},
   "source": [
    "## Task #3 - Grade Converter\n",
    "**Create a function that will convert student’s grade to GPA**\n",
    "\n",
    "***Instruction***\n",
    "1. Create function called `Grade_Converter`.\n",
    "2. This function takes input: `convert_to` and n-paired of student(s) name with its respective score.This function takes input: `convert_to` and n-paired of student(s) name with its respective score.\n",
    "3. Input argument for `convert_to` is either `letter_grade` or `gpa`\n",
    "4. You can utilize **kwargs input argument to generate n-length paired of student(s) name with its respective score (Dictionary)\n",
    "5. This function will return dictionary of student’s name along with converted Letter Grade or GPA, depending on user input in `convert_to` parameter.\n",
    "\n",
    "|**Score**|**Letter Grade**|**GPA 4.0 Scale**|\n",
    "|:-:|:-:|:-:|\n",
    "|85 - 100|A|4|\n",
    "|70 - 84,99|B|3|\n",
    "|60 - 69,99|C|2.5|\n",
    "|50 - 59,99|D|2|\n",
    "|40 - 49,99|E|1.5|\n",
    "|0 - 39,99|F|1|\n",
    "\n",
    "***Instruction:***\n",
    "\n",
    "1. Create function called `Grade_Converter`.\n",
    "2. This function takes input: `convert_to` and n-paired of student(s) name with its respective score\n",
    "3. Input argument for `convert_to` is either `letter_grade` or `gpa`.\n",
    "4. You can utilize **kwargs input argument to generate n-length paired of student(s) name with its respective score (Dictionary)\n",
    "5. This function will return dictionary of student’s name along with converted Letter Grade or GPA, depending on user input in `convert_to` parameter."
   ]
  },
  {
   "cell_type": "markdown",
   "metadata": {},
   "source": [
    "## Task #3 - Grade Converter ##\n",
    "**Create a function that will convert student’s grade to GPA**\n",
    "\n",
    "***Example***\n",
    "\n",
    "- Input: Grade_Converter(convert_to='gpa', Adam=62, Faiz=91)\n",
    "- Output: {'Adam': 2.5, 'Faiz': 4}\n",
    "- Input: Grade_Converter(convert_to='letter_grade', Albert=90, Dwi=82, Syahdan=58, Veronica=84\n",
    "- Output: {'Albert': 'A', 'Dwi': 'B', 'Syahdan': 'D','Veronica': 'B'}\n",
    "\n",
    "|**Score**|**Letter Grade**|**GPA 4.0 Scale**|\n",
    "|:-:|:-:|:-:|\n",
    "|85 - 100|A|4|\n",
    "|70 - 84,99|B|3|\n",
    "|60 - 69,99|C|2.5|\n",
    "|50 - 59,99|D|2|\n",
    "|40 - 49,99|E|1.5|\n",
    "|0 - 39,99|F|1|\n"
   ]
  },
  {
   "cell_type": "markdown",
   "metadata": {},
   "source": [
    "##  Task #4 - Fibonacci Sequence ##\n",
    "\n",
    "Fibonacci sequence is a sequence in which each number is the sum of the two preceding ones. Suppose we have fibonacci sequence started with:\n",
    "\n",
    "0,1,1,2,3,5,...\n",
    "\n",
    "Then the next number should be 8 or sum of the two precedings, 3 and 5:\n",
    "\n",
    "0,1,1,2,3,5,**8**,..\n",
    "\n",
    "\n",
    "Then the next number should be 13 or sum of the two precedings, 5 and 8:\n",
    "\n",
    "0, 1, 1, 2, 3, 5, 8, **13**,...\n",
    "\n",
    "And so on"
   ]
  },
  {
   "cell_type": "code",
   "execution_count": 42,
   "metadata": {},
   "outputs": [
    {
     "name": "stdout",
     "output_type": "stream",
     "text": [
      "0\n",
      "1\n",
      "5\n",
      "6\n"
     ]
    }
   ],
   "source": [
    "def fibonacci_number(n):\n",
    "    if n == 0 :\n",
    "        return 0 \n",
    "    elif n == 1 :\n",
    "        return 1\n",
    "    \n",
    "    a,b = 0, 1 #intialize the first two numbers in the fibonnanci sequence: a - 0 and b - 1\n",
    "    position = 1 #initialize the fibonacci sequence position. Startin from 1 because we've already considered n-0 and n-1\n",
    "\n",
    "    while b <= n: #As long as the value of b <= n\n",
    "        a,b = b, a +b #Update the values of a and b. a becomes b, and b becomes a +b\n",
    "        position += 1 \n",
    "        if b == n :\n",
    "            return position \n",
    "    return \"Not a fibonacci number\"\n",
    "print(fibonacci_number(n=0))\n",
    "print(fibonacci_number(n=1))\n",
    "print(fibonacci_number(n=5))\n",
    "print(fibonacci_number(n=55))\n",
    "\n"
   ]
  }
 ],
 "metadata": {
  "kernelspec": {
   "display_name": "base",
   "language": "python",
   "name": "python3"
  },
  "language_info": {
   "codemirror_mode": {
    "name": "ipython",
    "version": 3
   },
   "file_extension": ".py",
   "mimetype": "text/x-python",
   "name": "python",
   "nbconvert_exporter": "python",
   "pygments_lexer": "ipython3",
   "version": "3.11.5"
  }
 },
 "nbformat": 4,
 "nbformat_minor": 2
}
