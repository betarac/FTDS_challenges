{
 "cells": [
  {
   "cell_type": "code",
   "execution_count": 2,
   "metadata": {},
   "outputs": [],
   "source": [
    "class Book :\n",
    "    def __init__(self,title,author,identifier):\n",
    "        self.title = title\n",
    "        self.author = author\n",
    "        self.identifier = identifier\n",
    "    def __str__(self):\n",
    "        return f\"{self.identifier}: {self.title} by {self.author}\"\n",
    "\n",
    "class lbr_catalog:\n",
    "    def __init__ (self) :\n",
    "        self.books = []\n",
    "        \n",
    "    def add_book(self, book) :\n",
    "        if not isinstance(book,Book) :\n",
    "            raise ValueError(\"Invalid book object\")\n",
    "        self.books.append(book)\n",
    "    def search_books(self, keyword):\n",
    "        found_books = []\n",
    "        for book in self.books:\n",
    "            if keyword.lower() in book.title.lower() or keyword.lower () in book.author.lower():\n",
    "                found_books.append(book)\n",
    "            return found_books\n",
    "    def remove_book(self, book):\n",
    "\n",
    "        if book in self.books:\n",
    "            self.books.remove(book)\n",
    "        else:\n",
    "            raise ValueError(\"Book not found in catalog\")\n",
    "    def display_books(self):\n",
    "        if not self.books:\n",
    "            print (\"No books ini the catalog\")\n",
    "        else:\n",
    "            for book in self.books:\n",
    "                    print(book)"
   ]
  },
  {
   "cell_type": "code",
   "execution_count": 3,
   "metadata": {},
   "outputs": [
    {
     "name": "stdout",
     "output_type": "stream",
     "text": [
      "\n",
      "Removing 'Python 2'\n",
      "\n",
      "Current books in the catalog:\n",
      "2: Python 1 by Rema\n",
      "4: Python 3 by Lema\n"
     ]
    }
   ],
   "source": [
    "library_catalog = lbr_catalog()\n",
    "\n",
    "book1 = Book(\"Python 1\",\"Rema\",2)\n",
    "book2 = Book(\"Python 2\",\"Bema\",3)\n",
    "book3 = Book(\"Python 3\",\"Lema\",4)\n",
    "\n",
    "library_catalog.add_book(book1)\n",
    "library_catalog.add_book(book2)\n",
    "library_catalog.add_book(book3)\n",
    "\n",
    "result = library_catalog.search_books(\"Jhon Smith\")\n",
    "for book in result :\n",
    "    print (book)\n",
    "print (\"\\nRemoving 'Python 2'\")\n",
    "library_catalog.remove_book(book2)\n",
    "\n",
    "print(\"\\nCurrent books in the catalog:\")\n",
    "library_catalog.display_books()\n"
   ]
  }
 ],
 "metadata": {
  "kernelspec": {
   "display_name": "base",
   "language": "python",
   "name": "python3"
  },
  "language_info": {
   "codemirror_mode": {
    "name": "ipython",
    "version": 3
   },
   "file_extension": ".py",
   "mimetype": "text/x-python",
   "name": "python",
   "nbconvert_exporter": "python",
   "pygments_lexer": "ipython3",
   "version": "3.11.5"
  }
 },
 "nbformat": 4,
 "nbformat_minor": 2
}
